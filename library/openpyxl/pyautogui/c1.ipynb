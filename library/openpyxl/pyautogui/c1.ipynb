{
 "cells": [
  {
   "cell_type": "markdown",
   "metadata": {},
   "source": [
    "# PyAutoGUI\n",
    "\n",
    "Fonte: [Documentação do PyAutoGUI](https://pyautogui.readthedocs.io/en/latest/)."
   ]
  },
  {
   "cell_type": "markdown",
   "metadata": {},
   "source": [
    "## Tela"
   ]
  },
  {
   "cell_type": "code",
   "execution_count": 14,
   "metadata": {},
   "outputs": [],
   "source": [
    "import pyautogui"
   ]
  },
  {
   "cell_type": "code",
   "execution_count": null,
   "metadata": {},
   "outputs": [],
   "source": [
    "pyautogui.position()    # Posição x e y do mause"
   ]
  },
  {
   "cell_type": "code",
   "execution_count": null,
   "metadata": {},
   "outputs": [],
   "source": [
    "pyautogui.size()    # resolução atual da tela largura e altura"
   ]
  },
  {
   "cell_type": "code",
   "execution_count": null,
   "metadata": {},
   "outputs": [],
   "source": [
    "# Se a posição for válida dentro da tela\n",
    "\n",
    "# Verdadeiro:\n",
    "x = 5\n",
    "y = 10\n",
    "pyautogui.onScreen(x, y)  # Verdadeiro se x e y estiverem dentro da tela.\n",
    "\n",
    "# Falso:\n",
    "x = 9000\n",
    "y = 750\n",
    "pyautogui.onScreen(x, y)  # Verdadeiro se x e y estiverem dentro da tela."
   ]
  }
 ],
 "metadata": {
  "kernelspec": {
   "display_name": "venv",
   "language": "python",
   "name": "python3"
  },
  "language_info": {
   "codemirror_mode": {
    "name": "ipython",
    "version": 3
   },
   "file_extension": ".py",
   "mimetype": "text/x-python",
   "name": "python",
   "nbconvert_exporter": "python",
   "pygments_lexer": "ipython3",
   "version": "3.12.1"
  }
 },
 "nbformat": 4,
 "nbformat_minor": 2
}
