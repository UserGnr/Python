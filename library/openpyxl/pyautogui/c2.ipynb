{
 "cells": [
  {
   "cell_type": "markdown",
   "metadata": {},
   "source": [
    "## Dispositivos de segurança"
   ]
  },
  {
   "cell_type": "code",
   "execution_count": 1,
   "metadata": {},
   "outputs": [],
   "source": [
    "import pyautogui"
   ]
  },
  {
   "cell_type": "code",
   "execution_count": 17,
   "metadata": {},
   "outputs": [],
   "source": [
    "pyautogui.PAUSE = 2.5   # Configure uma pausa de 2,5 segundos após cada chamada para segurança"
   ]
  },
  {
   "cell_type": "code",
   "execution_count": 21,
   "metadata": {},
   "outputs": [],
   "source": [
    "# pyautogui.FAILSAFE = True\n",
    "# Quando o modo à prova de falhas estiver True, mover o mouse para o canto superior esquerdo levantará uma janela pyautogui.FailSafeExceptionque pode abortar o programa\n"
   ]
  },
  {
   "cell_type": "markdown",
   "metadata": {},
   "source": [
    "## Funções do mouse\n",
    "\n",
    "Coordenadas XY têm origem 0, 0 no canto superior esquerdo da tela. \n",
    "- X aumenta indo para a direita\n",
    "- Y aumenta indo para baixo"
   ]
  },
  {
   "cell_type": "code",
   "execution_count": 22,
   "metadata": {},
   "outputs": [],
   "source": [
    "import pyautogui"
   ]
  },
  {
   "cell_type": "markdown",
   "metadata": {},
   "source": [
    "### Mover"
   ]
  },
  {
   "cell_type": "code",
   "execution_count": 27,
   "metadata": {},
   "outputs": [],
   "source": [
    "# Mover o mouse para as coordenadas X e Y em um período de tempo definido\n",
    "# pyautogui.moveTo(x, y, duration=num_seconds)\n",
    "pyautogui.moveTo(55, 70, duration=7)\n",
    "\n",
    "# Se o tempo for 0, a movimentação do mause é imediata"
   ]
  },
  {
   "cell_type": "code",
   "execution_count": 26,
   "metadata": {},
   "outputs": [],
   "source": [
    "# Mover o mouse com base na posição atual em um período de tempo\n",
    "# pyautogui.moveRel(xOffset, yOffset, duration=num_seconds)\n",
    "pyautogui.moveRel(25, 80, duration=5)\n",
    "\n",
    "# Se o tempo for 0, a movimentação do mause é imediata"
   ]
  },
  {
   "cell_type": "markdown",
   "metadata": {},
   "source": [
    "### Arrastar"
   ]
  },
  {
   "cell_type": "code",
   "execution_count": 28,
   "metadata": {},
   "outputs": [],
   "source": [
    "# Arrastar o mouse para as cordenadas\n",
    "# pyautogui.dragTo(x, y, duration=num_seconds)\n",
    "pyautogui.dragTo(55, 80, duration=3)"
   ]
  },
  {
   "cell_type": "code",
   "execution_count": 33,
   "metadata": {},
   "outputs": [],
   "source": [
    "# Arrastar o mouse com base na posição atual em um período de tempo\n",
    "# pyautogui.dragRel(xOffset, yOffset, duration=num_seconds)\n",
    "pyautogui.dragRel(-50, -25, duration=3)"
   ]
  },
  {
   "cell_type": "markdown",
   "metadata": {},
   "source": [
    "### Clique"
   ]
  },
  {
   "cell_type": "code",
   "execution_count": 35,
   "metadata": {},
   "outputs": [],
   "source": [
    "# Clicar uma vez com o botão esquerdo do mouse \n",
    "# pyautogui.click(x=moveToX, y=moveToY, clicks=num_of_clicks, interval=secs_between_clicks, button='left')\n",
    "pyautogui.click(x=5, y=100, clicks=1, interval=1, button='left')\n",
    "\n",
    "# button: 'left', 'middle' ou 'right'\n",
    "\n",
    "# Todos os cliques podem ser feitos com click(), mas também existem:\n",
    "# pyautogui.rightClick(x=moveToX, y=moveToY)\n",
    "# pyautogui.middleClick(x=moveToX, y=moveToY)\n",
    "# pyautogui.doubleClick(x=moveToX, y=moveToY)\n",
    "# pyautogui.tripleClick(x=moveToX, y=moveToY)"
   ]
  },
  {
   "cell_type": "markdown",
   "metadata": {},
   "source": [
    "### Rolagem"
   ]
  },
  {
   "cell_type": "code",
   "execution_count": 40,
   "metadata": {},
   "outputs": [],
   "source": [
    "# pyautogui.scroll(amount_to_scroll, x=moveToX, y=moveToY)\n",
    "# amount_to_scroll: Especifica a quantidade de rolagem. Valores positivos rolam para cima, enquanto valores negativos rolam para baixo.\n",
    "# x e y (opcionais): Coordenadas onde você quer simular a rolagem. Se omitidos, a rolagem será executada na posição atual do cursor.\n",
    "pyautogui.scroll(-500, x=5, y=55)\n",
    "\n",
    "# Eventos individuais de botão para cima e para baixo podem ser chamados separadamente:\n",
    "# pyautogui.mouseDown(x=moveToX, y=moveToY, button='left')\n",
    "# pyautogui.mouseUp(x=moveToX, y=moveToY, button='left')"
   ]
  },
  {
   "cell_type": "markdown",
   "metadata": {},
   "source": [
    "## Funções do teclado"
   ]
  },
  {
   "cell_type": "code",
   "execution_count": 2,
   "metadata": {},
   "outputs": [],
   "source": [
    "import pyautogui\n",
    "import time"
   ]
  },
  {
   "cell_type": "code",
   "execution_count": 4,
   "metadata": {},
   "outputs": [],
   "source": [
    "# Inserir texto\n",
    "# pyautogui.typewrite('Hello world!\\n', interval=secs_between_keys)\n",
    "pyautogui.typewrite('Hello world!\\n', interval=1)\n",
    "# Escreve o texto onde estiver selecionado\n",
    "# \\n corresponde ao Enter"
   ]
  },
  {
   "cell_type": "code",
   "execution_count": 6,
   "metadata": {},
   "outputs": [],
   "source": [
    "# Inserir uma lista de texto\n",
    "# pyautogui.typewrite(['a', 'b', 'c', 'left', 'backspace', 'enter', 'f1'], interval=secs_between_keys)\n",
    "pyautogui.typewrite(['a', 'b', 'c', 'left', 'backspace', 'enter', 'f1'], interval=1)\n",
    "# left faz andar uma casa para esquerda\n",
    "# backspace apaga para esquerda\n",
    "# enter corresponde ao Enter\n",
    "# f1 corresponde a tecla F1\n",
    "\n",
    "# A lista completa dos nomes principais está em pyautogui.KEYBOARD_KEYS\n"
   ]
  },
  {
   "cell_type": "code",
   "execution_count": null,
   "metadata": {},
   "outputs": [],
   "source": [
    "pyautogui.KEYBOARD_KEYS"
   ]
  },
  {
   "cell_type": "code",
   "execution_count": 8,
   "metadata": {},
   "outputs": [],
   "source": [
    "# Acionar atalhos\n",
    "# hotkey\n",
    "# pyautogui.hotkey('ctrl', 'c')\n",
    "pyautogui.hotkey('ctrl', 'c')  # ctrl-c para copiar\n",
    "pyautogui.hotkey('ctrl', 'v')  # ctrl-v para colar"
   ]
  },
  {
   "cell_type": "code",
   "execution_count": null,
   "metadata": {},
   "outputs": [],
   "source": [
    "# Manter tecla pressionada\n",
    "# pyautogui.keyDown(key_name)   # Preciona a tecla\n",
    "# pyautogui.keyUp(key_name) # Retira a tecla precionada\n",
    "pyautogui.keyDown('shift')\n",
    "time.sleep(1)   # Mantém a tecla precionada por 1 segundo\n",
    "pyautogui.keyUp('shift')"
   ]
  }
 ],
 "metadata": {
  "kernelspec": {
   "display_name": "venv",
   "language": "python",
   "name": "python3"
  },
  "language_info": {
   "codemirror_mode": {
    "name": "ipython",
    "version": 3
   },
   "file_extension": ".py",
   "mimetype": "text/x-python",
   "name": "python",
   "nbconvert_exporter": "python",
   "pygments_lexer": "ipython3",
   "version": "3.12.5"
  }
 },
 "nbformat": 4,
 "nbformat_minor": 2
}
