{
 "cells": [
  {
   "cell_type": "markdown",
   "metadata": {},
   "source": [
    "## Funções do teclado"
   ]
  },
  {
   "cell_type": "code",
   "execution_count": 2,
   "metadata": {},
   "outputs": [],
   "source": [
    "import pyautogui\n",
    "import time"
   ]
  },
  {
   "cell_type": "code",
   "execution_count": 4,
   "metadata": {},
   "outputs": [],
   "source": [
    "# Inserir texto\n",
    "# pyautogui.typewrite('Hello world!\\n', interval=secs_between_keys)\n",
    "pyautogui.typewrite('Hello world!\\n', interval=1)\n",
    "# Escreve o texto onde estiver selecionado\n",
    "# \\n corresponde ao Enter"
   ]
  },
  {
   "cell_type": "code",
   "execution_count": 6,
   "metadata": {},
   "outputs": [],
   "source": [
    "# Inserir uma lista de texto\n",
    "# pyautogui.typewrite(['a', 'b', 'c', 'left', 'backspace', 'enter', 'f1'], interval=secs_between_keys)\n",
    "pyautogui.typewrite(['a', 'b', 'c', 'left', 'backspace', 'enter', 'f1'], interval=1)\n",
    "# left faz andar uma casa para esquerda\n",
    "# backspace apaga para esquerda\n",
    "# enter corresponde ao Enter\n",
    "# f1 corresponde a tecla F1\n",
    "\n",
    "# A lista completa dos nomes principais está em pyautogui.KEYBOARD_KEYS\n"
   ]
  },
  {
   "cell_type": "code",
   "execution_count": null,
   "metadata": {},
   "outputs": [],
   "source": [
    "pyautogui.KEYBOARD_KEYS"
   ]
  },
  {
   "cell_type": "code",
   "execution_count": 8,
   "metadata": {},
   "outputs": [],
   "source": [
    "# Acionar atalhos\n",
    "# hotkey\n",
    "# pyautogui.hotkey('ctrl', 'c')\n",
    "pyautogui.hotkey('ctrl', 'c')  # ctrl-c para copiar\n",
    "pyautogui.hotkey('ctrl', 'v')  # ctrl-v para colar"
   ]
  },
  {
   "cell_type": "code",
   "execution_count": null,
   "metadata": {},
   "outputs": [],
   "source": [
    "# Manter tecla pressionada\n",
    "# pyautogui.keyDown(key_name)   # Preciona a tecla\n",
    "# pyautogui.keyUp(key_name) # Retira a tecla precionada\n",
    "pyautogui.keyDown('shift')\n",
    "time.sleep(1)   # Mantém a tecla precionada por 1 segundo\n",
    "pyautogui.keyUp('shift')"
   ]
  }
 ],
 "metadata": {
  "kernelspec": {
   "display_name": "venv",
   "language": "python",
   "name": "python3"
  },
  "language_info": {
   "codemirror_mode": {
    "name": "ipython",
    "version": 3
   },
   "file_extension": ".py",
   "mimetype": "text/x-python",
   "name": "python",
   "nbconvert_exporter": "python",
   "pygments_lexer": "ipython3",
   "version": "3.12.5"
  }
 },
 "nbformat": 4,
 "nbformat_minor": 2
}
