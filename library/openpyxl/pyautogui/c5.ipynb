{
 "cells": [
  {
   "cell_type": "markdown",
   "metadata": {},
   "source": [
    "## Caixa de mensagem"
   ]
  },
  {
   "cell_type": "code",
   "execution_count": 1,
   "metadata": {},
   "outputs": [],
   "source": [
    "import pyautogui"
   ]
  },
  {
   "cell_type": "markdown",
   "metadata": {},
   "source": [
    "Alerta"
   ]
  },
  {
   "cell_type": "code",
   "execution_count": 3,
   "metadata": {},
   "outputs": [
    {
     "data": {
      "text/plain": [
       "'OK'"
      ]
     },
     "execution_count": 3,
     "metadata": {},
     "output_type": "execute_result"
    }
   ],
   "source": [
    "# pyautogui.alert(text='', title='', button='OK')\n",
    "# pyautogui.alert('This displays some text with an OK button.')\n",
    "pyautogui.alert(text='Texto', title='Meu título', button='OK')"
   ]
  },
  {
   "cell_type": "markdown",
   "metadata": {},
   "source": [
    "Corfirmação"
   ]
  },
  {
   "cell_type": "code",
   "execution_count": 7,
   "metadata": {},
   "outputs": [
    {
     "name": "stdout",
     "output_type": "stream",
     "text": [
      "Opção escolhida: Cancel\n"
     ]
    }
   ],
   "source": [
    "# pyautogui.confirm(text='', title='', buttons=['OK', 'Cancel'])\n",
    "# pyautogui.confirm('This displays text and has an OK and Cancel button.')\n",
    "resposta = pyautogui.confirm(text='Texto', title='Meu título', buttons=['OK', 'Cancel', 'Outro'])\n",
    "print(f'Opção escolhida: {resposta}')"
   ]
  },
  {
   "cell_type": "markdown",
   "metadata": {},
   "source": [
    "Entrada de texto"
   ]
  },
  {
   "cell_type": "code",
   "execution_count": 11,
   "metadata": {},
   "outputs": [
    {
     "name": "stdout",
     "output_type": "stream",
     "text": [
      "Texto digitado: Olha aqui\n"
     ]
    }
   ],
   "source": [
    "# pyautogui.prompt(text='', title='' , default='')\n",
    "# pyautogui.prompt('This lets the user type in a string and press OK.')\n",
    "texto = pyautogui.prompt(text='Texto', title='Meu título' , default='Olha aqui')\n",
    "print(f'Texto digitado: {texto}')"
   ]
  },
  {
   "cell_type": "markdown",
   "metadata": {},
   "source": [
    "Senha"
   ]
  },
  {
   "cell_type": "code",
   "execution_count": 13,
   "metadata": {},
   "outputs": [
    {
     "name": "stdout",
     "output_type": "stream",
     "text": [
      "Senha digitada: Senhahahaha\n"
     ]
    }
   ],
   "source": [
    "# pyautogui.password(text='', title='', default='', mask='*')\n",
    "senha = pyautogui.password(text='Texto', title='Meu título', default='Oi', mask='$')\n",
    "print(f'Senha digitada: {senha}')"
   ]
  }
 ],
 "metadata": {
  "kernelspec": {
   "display_name": "Python 3",
   "language": "python",
   "name": "python3"
  },
  "language_info": {
   "codemirror_mode": {
    "name": "ipython",
    "version": 3
   },
   "file_extension": ".py",
   "mimetype": "text/x-python",
   "name": "python",
   "nbconvert_exporter": "python",
   "pygments_lexer": "ipython3",
   "version": "3.12.1"
  }
 },
 "nbformat": 4,
 "nbformat_minor": 2
}
