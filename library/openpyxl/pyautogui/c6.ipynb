{
 "cells": [
  {
   "cell_type": "markdown",
   "metadata": {},
   "source": [
    "## Captura de tela"
   ]
  },
  {
   "cell_type": "code",
   "execution_count": 70,
   "metadata": {},
   "outputs": [],
   "source": [
    "import pyautogui\n",
    "import pyscreeze"
   ]
  },
  {
   "cell_type": "markdown",
   "metadata": {},
   "source": [
    "Captura de tela"
   ]
  },
  {
   "cell_type": "code",
   "execution_count": 2,
   "metadata": {},
   "outputs": [],
   "source": [
    "# Tira um print da tela\n",
    "screenshot = pyautogui.screenshot()  # retorna um objeto Pillow/PIL Image\n",
    "screenshot.show()"
   ]
  },
  {
   "cell_type": "code",
   "execution_count": null,
   "metadata": {},
   "outputs": [],
   "source": [
    "# Tira um print da tela e salva como imagem\n",
    "# pyautogui.screenshot('.\\\\image\\\\teste1.png')  # retorna um objeto Pillow/PIL Image e o salva em um arquivo\n",
    "screenshot = pyautogui.screenshot('.\\\\image\\\\teste1.png')"
   ]
  },
  {
   "cell_type": "markdown",
   "metadata": {},
   "source": [
    "Captura de tela de uma região específica"
   ]
  },
  {
   "cell_type": "code",
   "execution_count": 4,
   "metadata": {},
   "outputs": [],
   "source": [
    "# im = pyautogui.screenshot(region=(0,0, 300, 400))\n",
    "im = pyautogui.screenshot(region=(0,0, 300, 400))\n",
    "im.show()"
   ]
  },
  {
   "cell_type": "markdown",
   "metadata": {},
   "source": [
    "Procura"
   ]
  },
  {
   "cell_type": "code",
   "execution_count": 71,
   "metadata": {},
   "outputs": [
    {
     "data": {
      "text/plain": [
       "Box(left=1135, top=723, width=38, height=40)"
      ]
     },
     "execution_count": 71,
     "metadata": {},
     "output_type": "execute_result"
    }
   ],
   "source": [
    "# Primeiro lugar encontrado\n",
    "# pyautogui.locateOnScreen('looksLikeThis.png')  # retorna uma tupla (left, top, width, height) do primeiro lugar em que é encontrado\n",
    "pyautogui.locateOnScreen('.\\\\image\\\\procurar.png')\n",
    "# button7location = pyautogui.locateOnScreen('calc7key.png', confidence=0.9)\n",
    "# confidence serve para especificar a precisão que a função deve localizar a imagem, visto que imagens podem ter diferenças em pixels"
   ]
  },
  {
   "cell_type": "code",
   "execution_count": null,
   "metadata": {},
   "outputs": [],
   "source": [
    "# Todos os lugares encontrados\n",
    "# for i in pyautogui.locateAllOnScreen('looksLikeThis.png')\n",
    "# list(pyautogui.locateAllOnScreen('looksLikeThis.png'))\n",
    "list(pyautogui.locateAllOnScreen('.\\\\image\\\\procurar.png'))"
   ]
  },
  {
   "cell_type": "code",
   "execution_count": 73,
   "metadata": {},
   "outputs": [],
   "source": [
    "# Centro da imagem\n",
    "# pyautogui.locateCenterOnScreen('looksLikeThis.png')  # retorna o centro x e y da imagem\n",
    "# pyautogui.locateCenterOnScreen('.\\\\image\\\\procurar.png')\n",
    "x, y = pyautogui.locateCenterOnScreen('.\\\\image\\\\procurar.png')\n",
    "pyautogui.click(x, y)"
   ]
  },
  {
   "cell_type": "code",
   "execution_count": 75,
   "metadata": {},
   "outputs": [
    {
     "ename": "SyntaxError",
     "evalue": "(unicode error) 'unicodeescape' codec can't decode bytes in position 2-3: truncated \\UXXXXXXXX escape (121893325.py, line 1)",
     "output_type": "error",
     "traceback": [
      "\u001b[1;36m  Cell \u001b[1;32mIn[75], line 1\u001b[1;36m\u001b[0m\n\u001b[1;33m    x, y = pyautogui.locateCenterOnScreen('C:\\Users\\Andre.decaris\\Desktop\\Git\\Git\\Private\\python\\pyautogui\\apllication\\image\\image.png')\u001b[0m\n\u001b[1;37m                                          ^\u001b[0m\n\u001b[1;31mSyntaxError\u001b[0m\u001b[1;31m:\u001b[0m (unicode error) 'unicodeescape' codec can't decode bytes in position 2-3: truncated \\UXXXXXXXX escape\n"
     ]
    }
   ],
   "source": [
    "\n",
    "x, y = pyautogui.locateCenterOnScreen(r'C:\\Users\\Andre.decaris\\Desktop\\Git\\Git\\Private\\python\\pyautogui\\apllication\\image\\image.png')\n",
    "pyautogui.click(x, y)\n"
   ]
  },
  {
   "cell_type": "markdown",
   "metadata": {},
   "source": [
    "Outras procuras de imagem"
   ]
  },
  {
   "cell_type": "code",
   "execution_count": null,
   "metadata": {},
   "outputs": [],
   "source": [
    "# pyautogui.locateOnScreen(image, grayscale=False)  # Retorna a coordenada (esquerda, topo, largura, altura) da primeira instância encontrada de imagena tela. Retorna ImageNotFoundException se não for encontrado na tela.\n",
    "\n",
    "# locateCenterOnScreen(image, grayscale=False)  # Retorna coordenadas (x, y) do centro da primeira instância encontrada de imagena tela. Retorna ImageNotFoundExceptionse não for encontrado na tela.\n",
    "\n",
    "# locateAllOnScreen(image, grayscale=False) # Retorna um gerador que produz tuplas (esquerda, topo, largura, altura) para onde a imagem é encontrada na tela.\n",
    "\n",
    "# locate(needleImage, haystackImage, grayscale=False)   # Retorna a coordenada (esquerda, topo, largura, altura) da primeira instância encontrada de needleImage em haystackImage. É gerado ImageNotFoundExceptionse não for encontrado na tela.\n",
    "\n",
    "# locateAll(needleImage, haystackImage, grayscale=False)    # Retorna um gerador que produz tuplas (esquerda, topo, largura, altura) para onde needleImage é encontrado em haystackImage.\n",
    "\n",
    "# Obs.:\n",
    "# - As funções para localizar tudo podem ser usadas em loops for ou passadas para list()\n",
    "# - A procura de imagens podem levar tempo, pesquisar por uma região menor da tela pode ser muito útil"
   ]
  },
  {
   "cell_type": "markdown",
   "metadata": {},
   "source": [
    "Correspondências"
   ]
  },
  {
   "cell_type": "code",
   "execution_count": null,
   "metadata": {},
   "outputs": [],
   "source": [
    "# Escala de cinza\n",
    "button7location = pyautogui.locateOnScreen('.\\\\image\\\\procurar.png', grayscale=True)\n",
    "button7location\n",
    "\n",
    "# grayscale=True para as funções locate para dar uma ligeira aceleração (cerca de 30%).\n",
    "# Isso dessatura a cor das imagens e capturas de tela, acelerando a localização, mas pode causar correspondências falso-positivas."
   ]
  },
  {
   "cell_type": "code",
   "execution_count": null,
   "metadata": {},
   "outputs": [],
   "source": [
    "# RGB de um pixel\n",
    "# Obtém a cor RGB em um pixel\n",
    "im = pyautogui.screenshot()\n",
    "im.getpixel((100, 200))\n",
    "\n",
    "# pix = pyautogui.pixel(100, 200)\n",
    "# pix[0]\n",
    "# pix[1]"
   ]
  },
  {
   "cell_type": "code",
   "execution_count": 22,
   "metadata": {},
   "outputs": [
    {
     "data": {
      "text/plain": [
       "False"
      ]
     },
     "execution_count": 22,
     "metadata": {},
     "output_type": "execute_result"
    }
   ],
   "source": [
    "# Verificar a correspondência de um pixel\n",
    "# pyautogui.pixelMatchesColor(100, 200, (130, 135, 144))\n",
    "pyautogui.pixelMatchesColor(100, 200, (130, 135, 144))\n",
    "\n",
    "# pyautogui.pixelMatchesColor(100, 200, (140, 125, 134), tolerance=10)\n",
    "# tolerance especifica o quanto cada um dos valores vermelho, verde e azul pode variar e ainda assim corresponder"
   ]
  }
 ],
 "metadata": {
  "kernelspec": {
   "display_name": "Python 3",
   "language": "python",
   "name": "python3"
  },
  "language_info": {
   "codemirror_mode": {
    "name": "ipython",
    "version": 3
   },
   "file_extension": ".py",
   "mimetype": "text/x-python",
   "name": "python",
   "nbconvert_exporter": "python",
   "pygments_lexer": "ipython3",
   "version": "3.12.1"
  }
 },
 "nbformat": 4,
 "nbformat_minor": 2
}
