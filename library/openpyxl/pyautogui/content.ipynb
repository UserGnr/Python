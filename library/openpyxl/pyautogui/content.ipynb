{
 "cells": [
  {
   "cell_type": "markdown",
   "metadata": {},
   "source": [
    "# Guia de conteúdo\n",
    "\n",
    "- c1 - Tela\n",
    "- c2 - Segurança\n",
    "- c3 - Mouse\n",
    "- c4 - Teclado\n",
    "- c5 - Caixa de mensagem\n",
    "- c6 - Captura de tela"
   ]
  }
 ],
 "metadata": {
  "language_info": {
   "name": "python"
  }
 },
 "nbformat": 4,
 "nbformat_minor": 2
}
