{
 "cells": [
  {
   "cell_type": "markdown",
   "metadata": {},
   "source": [
    "# Testes"
   ]
  },
  {
   "cell_type": "markdown",
   "metadata": {},
   "source": [
    "### Título "
   ]
  },
  {
   "cell_type": "markdown",
   "metadata": {
    "notebookRunGroups": {
     "groupValue": "2"
    }
   },
   "source": [
    "'shift' + 'enter' executa o bloco de código"
   ]
  },
  {
   "cell_type": "code",
   "execution_count": 4,
   "metadata": {},
   "outputs": [
    {
     "ename": "AttributeError",
     "evalue": "'Worksheet' object has no attribute 'display'",
     "output_type": "error",
     "traceback": [
      "\u001b[1;31m---------------------------------------------------------------------------\u001b[0m",
      "\u001b[1;31mAttributeError\u001b[0m                            Traceback (most recent call last)",
      "Cell \u001b[1;32mIn[4], line 12\u001b[0m\n\u001b[0;32m      9\u001b[0m ws3 \u001b[38;5;241m=\u001b[39m wb\u001b[38;5;241m.\u001b[39mcreate_sheet(\u001b[38;5;124m\"\u001b[39m\u001b[38;5;124mSheet3\u001b[39m\u001b[38;5;124m\"\u001b[39m)\n\u001b[0;32m     10\u001b[0m ws4 \u001b[38;5;241m=\u001b[39m wb\u001b[38;5;241m.\u001b[39mcreate_sheet(\u001b[38;5;124m\"\u001b[39m\u001b[38;5;124mSheet4\u001b[39m\u001b[38;5;124m\"\u001b[39m)\n\u001b[1;32m---> 12\u001b[0m display \u001b[38;5;241m=\u001b[39m \u001b[43mws2\u001b[49m\u001b[38;5;241;43m.\u001b[39;49m\u001b[43mdisplay\u001b[49m\n",
      "\u001b[1;31mAttributeError\u001b[0m: 'Worksheet' object has no attribute 'display'"
     ]
    }
   ],
   "source": [
    "from openpyxl import Workbook\n",
    "\n",
    "wb = Workbook()\n",
    "# Uma pasta de trabalho é sempre criada com pelo menos uma planilha. Você pode obtê-la usando a propriedade Workbook.active\n",
    "\n",
    "ws = wb.active\n",
    "\n",
    "ws2 = wb.create_sheet(\"Sheet2\")\n",
    "ws3 = wb.create_sheet(\"Sheet3\")\n",
    "ws4 = wb.create_sheet(\"Sheet4\")\n"
   ]
  },
  {
   "cell_type": "code",
   "execution_count": null,
   "metadata": {},
   "outputs": [],
   "source": []
  }
 ],
 "metadata": {
  "kernelspec": {
   "display_name": "venv",
   "language": "python",
   "name": "python3"
  },
  "language_info": {
   "codemirror_mode": {
    "name": "ipython",
    "version": 3
   },
   "file_extension": ".py",
   "mimetype": "text/x-python",
   "name": "python",
   "nbconvert_exporter": "python",
   "pygments_lexer": "ipython3",
   "version": "3.12.1"
  }
 },
 "nbformat": 4,
 "nbformat_minor": 2
}
